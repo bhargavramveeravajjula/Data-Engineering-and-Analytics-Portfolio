{
 "cells": [
  {
   "cell_type": "code",
   "execution_count": 0,
   "metadata": {
    "application/vnd.databricks.v1+cell": {
     "cellMetadata": {
      "byteLimit": 2048000,
      "rowLimit": 10000
     },
     "inputWidgets": {},
     "nuid": "d459cad7-04fc-439c-b5f8-dc2f9486a744",
     "showTitle": false,
     "tableResultSettingsMap": {},
     "title": ""
    }
   },
   "outputs": [
    {
     "output_type": "stream",
     "name": "stdout",
     "output_type": "stream",
     "text": [
      "Python interpreter will be restarted.\nRequirement already satisfied: requests in /databricks/python3/lib/python3.9/site-packages (2.27.1)\nRequirement already satisfied: matplotlib in /databricks/python3/lib/python3.9/site-packages (3.5.1)\nRequirement already satisfied: charset-normalizer~=2.0.0 in /databricks/python3/lib/python3.9/site-packages (from requests) (2.0.4)\nRequirement already satisfied: idna<4,>=2.5 in /databricks/python3/lib/python3.9/site-packages (from requests) (3.3)\nRequirement already satisfied: certifi>=2017.4.17 in /databricks/python3/lib/python3.9/site-packages (from requests) (2021.10.8)\nRequirement already satisfied: urllib3<1.27,>=1.21.1 in /databricks/python3/lib/python3.9/site-packages (from requests) (1.26.9)\nRequirement already satisfied: pyparsing>=2.2.1 in /databricks/python3/lib/python3.9/site-packages (from matplotlib) (3.0.4)\nRequirement already satisfied: packaging>=20.0 in /databricks/python3/lib/python3.9/site-packages (from matplotlib) (21.3)\nRequirement already satisfied: numpy>=1.17 in /databricks/python3/lib/python3.9/site-packages (from matplotlib) (1.21.5)\nRequirement already satisfied: cycler>=0.10 in /databricks/python3/lib/python3.9/site-packages (from matplotlib) (0.11.0)\nRequirement already satisfied: kiwisolver>=1.0.1 in /databricks/python3/lib/python3.9/site-packages (from matplotlib) (1.3.2)\nRequirement already satisfied: pillow>=6.2.0 in /databricks/python3/lib/python3.9/site-packages (from matplotlib) (9.0.1)\nRequirement already satisfied: python-dateutil>=2.7 in /databricks/python3/lib/python3.9/site-packages (from matplotlib) (2.8.2)\nRequirement already satisfied: fonttools>=4.22.0 in /databricks/python3/lib/python3.9/site-packages (from matplotlib) (4.25.0)\nRequirement already satisfied: six>=1.5 in /databricks/python3/lib/python3.9/site-packages (from python-dateutil>=2.7->matplotlib) (1.16.0)\nPython interpreter will be restarted.\n"
     ]
    },
    {
     "output_type": "display_data",
     "data": {
      "application/vnd.databricks.v1+bamboolib_hint": "{\"pd.DataFrames\": [], \"version\": \"0.0.1\"}",
      "text/plain": []
     },
     "metadata": {},
     "output_type": "display_data"
    },
    {
     "output_type": "stream",
     "name": "stdout",
     "output_type": "stream",
     "text": [
      "Running pipeline 3 times with 30s delays...\n\n--- Run 1/3 ---\nAll data quality checks passed!\nData saved to Delta Lake!\nRun 1 completed successfully\nWaiting 30 seconds before next run...\n\n--- Run 2/3 ---\nAll data quality checks passed!\nData saved to Delta Lake!\nRun 2 completed successfully\nWaiting 30 seconds before next run...\n\n--- Run 3/3 ---\nAll data quality checks passed!\nData saved to Delta Lake!\nRun 3 completed successfully\n\n--- Final Visualization ---\nLatest Crypto Prices:\n"
     ]
    },
    {
     "output_type": "display_data",
     "data": {
      "text/html": [
       "<style scoped>\n",
       "  .table-result-container {\n",
       "    max-height: 300px;\n",
       "    overflow: auto;\n",
       "  }\n",
       "  table, th, td {\n",
       "    border: 1px solid black;\n",
       "    border-collapse: collapse;\n",
       "  }\n",
       "  th, td {\n",
       "    padding: 5px;\n",
       "  }\n",
       "  th {\n",
       "    text-align: left;\n",
       "  }\n",
       "</style><div class='table-result-container'><table class='table-result'><thead style='background-color: white'><tr><th>market_cap</th><th>price_usd</th><th>symbol</th><th>timestamp</th><th>volume_24h</th><th>price_change_24h</th></tr></thead><tbody><tr><td>1.3793828242797E11</td><td>2.35</td><td>XRP</td><td>2025-05-24T13:59:14.552+0000</td><td>2.34788479231E9</td><td>-0.83</td></tr><tr><td>1.5272735429349E11</td><td>1.0</td><td>USDT</td><td>2025-05-24T13:59:14.552+0000</td><td>8.02818177149E10</td><td>0.02</td></tr><tr><td>6.172233255314E10</td><td>1.0</td><td>USDC</td><td>2025-05-24T13:59:14.552+0000</td><td>1.05140511633E10</td><td>-0.01</td></tr><tr><td>2.580959687327E10</td><td>0.27</td><td>TRX</td><td>2025-05-24T13:59:14.552+0000</td><td>6.4460976213E8</td><td>1.92</td></tr><tr><td>9.14563151967E10</td><td>175.78</td><td>SOL</td><td>2025-05-24T13:59:14.552+0000</td><td>4.63481323579E9</td><td>-2.05</td></tr><tr><td>3.074711230627E11</td><td>2546.85</td><td>ETH</td><td>2025-05-24T13:59:14.552+0000</td><td>1.593676146354E10</td><td>-1.34</td></tr><tr><td>3.396690879416E10</td><td>0.23</td><td>DOGE</td><td>2025-05-24T13:59:14.552+0000</td><td>1.81980231859E9</td><td>-3.66</td></tr><tr><td>2.15701277331452E12</td><td>108560.59</td><td>BTC</td><td>2025-05-24T13:59:14.552+0000</td><td>5.502583541231E10</td><td>-1.03</td></tr><tr><td>9.477697679003E10</td><td>672.71</td><td>BNB</td><td>2025-05-24T13:59:14.552+0000</td><td>1.67197047703E9</td><td>0.34</td></tr><tr><td>2.675657641355E10</td><td>0.76</td><td>ADA</td><td>2025-05-24T13:59:14.552+0000</td><td>8.370290623E8</td><td>-3.55</td></tr></tbody></table></div>"
      ]
     },
     "metadata": {
      "application/vnd.databricks.v1+output": {
       "addedWidgets": {},
       "aggData": [],
       "aggError": "",
       "aggOverflow": false,
       "aggSchema": [],
       "aggSeriesLimitReached": false,
       "aggType": "",
       "arguments": {},
       "columnCustomDisplayInfos": {},
       "data": [
        [
         1.3793828242797E11,
         2.35,
         "XRP",
         "2025-05-24T13:59:14.552+0000",
         2.34788479231E9,
         -0.83
        ],
        [
         1.5272735429349E11,
         1.0,
         "USDT",
         "2025-05-24T13:59:14.552+0000",
         8.02818177149E10,
         0.02
        ],
        [
         6.172233255314E10,
         1.0,
         "USDC",
         "2025-05-24T13:59:14.552+0000",
         1.05140511633E10,
         -0.01
        ],
        [
         2.580959687327E10,
         0.27,
         "TRX",
         "2025-05-24T13:59:14.552+0000",
         6.4460976213E8,
         1.92
        ],
        [
         9.14563151967E10,
         175.78,
         "SOL",
         "2025-05-24T13:59:14.552+0000",
         4.63481323579E9,
         -2.05
        ],
        [
         3.074711230627E11,
         2546.85,
         "ETH",
         "2025-05-24T13:59:14.552+0000",
         1.593676146354E10,
         -1.34
        ],
        [
         3.396690879416E10,
         0.23,
         "DOGE",
         "2025-05-24T13:59:14.552+0000",
         1.81980231859E9,
         -3.66
        ],
        [
         2.15701277331452E12,
         108560.59,
         "BTC",
         "2025-05-24T13:59:14.552+0000",
         5.502583541231E10,
         -1.03
        ],
        [
         9.477697679003E10,
         672.71,
         "BNB",
         "2025-05-24T13:59:14.552+0000",
         1.67197047703E9,
         0.34
        ],
        [
         2.675657641355E10,
         0.76,
         "ADA",
         "2025-05-24T13:59:14.552+0000",
         8.370290623E8,
         -3.55
        ]
       ],
       "datasetInfos": [],
       "dbfsResultPath": null,
       "isJsonSchema": true,
       "metadata": {},
       "overflow": false,
       "plotOptions": {
        "customPlotOptions": {},
        "displayType": "table",
        "pivotAggregation": null,
        "pivotColumns": null,
        "xColumns": null,
        "yColumns": null
       },
       "removedWidgets": [],
       "schema": [
        {
         "metadata": "{}",
         "name": "market_cap",
         "type": "\"double\""
        },
        {
         "metadata": "{}",
         "name": "price_usd",
         "type": "\"double\""
        },
        {
         "metadata": "{}",
         "name": "symbol",
         "type": "\"string\""
        },
        {
         "metadata": "{}",
         "name": "timestamp",
         "type": "\"timestamp\""
        },
        {
         "metadata": "{}",
         "name": "volume_24h",
         "type": "\"double\""
        },
        {
         "metadata": "{}",
         "name": "price_change_24h",
         "type": "\"double\""
        }
       ],
       "type": "table"
      }
     },
     "output_type": "display_data"
    },
    {
     "output_type": "display_data",
     "data": {
      "image/png": "[encoded data removed]"
     },
     "metadata": {
      "application/vnd.databricks.v1+output": {
       "addedWidgets": {},
       "arguments": {},
       "data": "data:image/png;base64,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\n",
       "datasetInfos": [],
       "metadata": {},
       "removedWidgets": [],
       "type": "image"
      }
     },
     "output_type": "display_data"
    }
   ],
   "source": [
    "#1. Setup & Configuration\n",
    "\n",
    "# Install required libraries \n",
    "%pip install requests matplotlib\n",
    "\n",
    "# Import libraries\n",
    "import requests\n",
    "from pyspark.sql import SparkSession, functions as F\n",
    "from pyspark.sql.window import Window\n",
    "from datetime import datetime\n",
    "import matplotlib.pyplot as plt\n",
    "import pandas as pd\n",
    "import time\n",
    "\n",
    "# Configuration \n",
    "API_KEY = \"ef592ffa-f915-4d43-bdf6-6755b3ffdbef\"  \n",
    "CRYPTO_SYMBOLS = \"BTC,ETH,USDT,XRP,BNB,SOL,USDC,DOGE,ADA,TRX\"\n",
    "SAVE_PATH_RAW = \"/FileStore/crypto/raw_data\"     \n",
    "SAVE_PATH_PROCESSED = \"/FileStore/crypto/processed_data\"\n",
    "\n",
    "#2. Data Ingestion\n",
    "\n",
    "def fetch_crypto_data():\n",
    "    \"\"\"Fetch live data from CoinMarketCap API\"\"\"\n",
    "    url = \"https://pro-api.coinmarketcap.com/v1/cryptocurrency/quotes/latest\"\n",
    "    headers = {\"X-CMC_PRO_API_KEY\": API_KEY}\n",
    "    params = {\"symbol\": CRYPTO_SYMBOLS, \"convert\": \"USD\"}\n",
    "    \n",
    "    try:\n",
    "        response = requests.get(url, headers=headers, params=params, timeout=10)\n",
    "        response.raise_for_status()\n",
    "        return response.json()\n",
    "    except Exception as e:\n",
    "        print(f\"API Error: {e}\")\n",
    "        return None\n",
    "\n",
    "#3. Data Transformation\n",
    "\n",
    "def process_data(raw_data):\n",
    "    \"\"\"Clean and transform raw data\"\"\"\n",
    "    spark = SparkSession.builder.getOrCreate()\n",
    "    \n",
    "    # Create DataFrame from raw data\n",
    "    records = []\n",
    "    for symbol in raw_data[\"data\"]:\n",
    "        coin = raw_data[\"data\"][symbol]\n",
    "        records.append({\n",
    "            \"symbol\": symbol,\n",
    "            \"timestamp\": datetime.now().isoformat(),\n",
    "            \"price_usd\": coin[\"quote\"][\"USD\"][\"price\"],\n",
    "            \"volume_24h\": coin[\"quote\"][\"USD\"][\"volume_24h\"],\n",
    "            \"market_cap\": coin[\"quote\"][\"USD\"][\"market_cap\"],\n",
    "            # Get 24h change directly from API\n",
    "            \"price_change_24h\": coin[\"quote\"][\"USD\"][\"percent_change_24h\"]\n",
    "        })\n",
    "    \n",
    "    df = spark.createDataFrame(records)\n",
    "    \n",
    "    # Data Cleaning\n",
    "    df = (df\n",
    "          .withColumn(\"timestamp\", F.to_timestamp(\"timestamp\"))\n",
    "          .withColumn(\"price_usd\", F.round(\"price_usd\", 2))\n",
    "          .withColumn(\"volume_24h\", F.round(\"volume_24h\", 2))\n",
    "          .withColumn(\"market_cap\", F.round(\"market_cap\", 2))\n",
    "          .withColumn(\"price_change_24h\", F.round(\"price_change_24h\", 2))\n",
    "         )\n",
    "    \n",
    "    return df\n",
    "\n",
    "#4. Data Quality Checks\n",
    "\n",
    "def validate_data(df):\n",
    "    \"\"\"Run data quality assertions\"\"\"\n",
    "    # Check for null values in critical columns\n",
    "    assert df.filter(F.col(\"price_usd\").isNull()).count() == 0, \"Null values in price!\"\n",
    "    \n",
    "    # Check schema\n",
    "    expected_cols = {\"symbol\", \"timestamp\", \"price_usd\", \"volume_24h\", \"market_cap\", \"price_change_24h\"}\n",
    "    assert set(df.columns) == expected_cols, \"Schema mismatch!\"\n",
    "    \n",
    "    print(\"All data quality checks passed!\")\n",
    "\n",
    "#5. Save to Delta Lake\n",
    "\n",
    "def save_data(df, mode=\"append\"):\n",
    "    \"\"\"Save data to Delta Lake\"\"\"\n",
    "    # Save raw data \n",
    "    df.write.format(\"delta\").mode(mode).save(SAVE_PATH_RAW)\n",
    "    \n",
    "    # Save processed data \n",
    "    df.write.format(\"delta\").mode(\"overwrite\").save(SAVE_PATH_PROCESSED)\n",
    "    print(\"Data saved to Delta Lake!\")\n",
    "\n",
    "#6. Visualization & Analysis\n",
    "\n",
    "def visualize_data():\n",
    "    \"\"\"Generate time-series plot and table\"\"\"\n",
    "    spark = SparkSession.builder.getOrCreate()\n",
    "    \n",
    "    try:\n",
    "        # Read historical raw data for trends\n",
    "        df_historical = spark.read.format(\"delta\").load(SAVE_PATH_RAW)\n",
    "        \n",
    "        # Display latest processed data table\n",
    "        df_latest = spark.read.format(\"delta\").load(SAVE_PATH_PROCESSED)\n",
    "        print(\"Latest Crypto Prices:\")\n",
    "        display(df_latest.orderBy(F.desc(\"timestamp\")))\n",
    "        \n",
    "        # Create trendline plot using historical data\n",
    "        pdf = df_historical.toPandas()\n",
    "        pdf[\"timestamp\"] = pd.to_datetime(pdf[\"timestamp\"])\n",
    "        \n",
    "        if len(pdf) > 1:  \n",
    "            plt.figure(figsize=(12, 6))\n",
    "            \n",
    "            for symbol in pdf[\"symbol\"].unique():\n",
    "                symbol_data = pdf[pdf[\"symbol\"] == symbol].sort_values(\"timestamp\")\n",
    "                if len(symbol_data) > 1:  \n",
    "                    plt.plot(symbol_data[\"timestamp\"], symbol_data[\"price_usd\"], \n",
    "                            marker='o', label=symbol, linewidth=2)\n",
    "            \n",
    "            plt.title(\"Cryptocurrency Price Trends\")\n",
    "            plt.xlabel(\"Timestamp\")\n",
    "            plt.ylabel(\"Price (USD)\")\n",
    "            plt.legend()\n",
    "            plt.grid(True, alpha=0.3)\n",
    "            plt.xticks(rotation=45)\n",
    "            plt.tight_layout()\n",
    "            display(plt.show())\n",
    "        else:\n",
    "            print(\"Not enough historical data for trend visualization. Run the pipeline multiple times to build history.\")\n",
    "            \n",
    "    except Exception as e:\n",
    "        print(f\"Visualization error: {e}\")\n",
    "\n",
    "#7. Orchestration with Multiple Runs\n",
    "\n",
    "def run_pipeline_once():\n",
    "    \"\"\"Run the pipeline once\"\"\"\n",
    "    raw_data = fetch_crypto_data()\n",
    "    \n",
    "    if raw_data:\n",
    "        processed_df = process_data(raw_data)\n",
    "        validate_data(processed_df)\n",
    "        save_data(processed_df)\n",
    "        return True\n",
    "    else:\n",
    "        print(\"Pipeline failed at ingestion step!\")\n",
    "        return False\n",
    "\n",
    "def run_pipeline_multiple_times(num_runs=5, delay_seconds=60):\n",
    "    \"\"\"Run pipeline multiple times to build historical data\"\"\"\n",
    "    print(f\"Running pipeline {num_runs} times with {delay_seconds}s delays...\")\n",
    "    \n",
    "    for i in range(num_runs):\n",
    "        print(f\"\\n--- Run {i+1}/{num_runs} ---\")\n",
    "        success = run_pipeline_once()\n",
    "        \n",
    "        if success:\n",
    "            print(f\"Run {i+1} completed successfully\")\n",
    "            if i < num_runs - 1:  # Don't wait after the last run\n",
    "                print(f\"Waiting {delay_seconds} seconds before next run...\")\n",
    "                time.sleep(delay_seconds)\n",
    "        else:\n",
    "            print(f\"Run {i+1} failed\")\n",
    "            break\n",
    "    \n",
    "    print(\"\\n--- Final Visualization ---\")\n",
    "    visualize_data()\n",
    "\n",
    "#Multiple runs to build historical data \n",
    "run_pipeline_multiple_times(num_runs=3, delay_seconds=30)"
   ]
  }
 ],
 "metadata": {
  "application/vnd.databricks.v1+notebook": {
   "computePreferences": null,
   "dashboards": [],
   "environmentMetadata": {
    "base_environment": "",
    "environment_version": "1"
   },
   "inputWidgetPreferences": null,
   "language": "python",
   "notebookMetadata": {
    "pythonIndentUnit": 4
   },
   "notebookName": "Real-Time Cryptocurrency Data Pipeline",
   "widgets": {}
  }
 },
 "nbformat": 4,
 "nbformat_minor": 0
}