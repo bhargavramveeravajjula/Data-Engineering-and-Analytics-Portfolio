{
 "cells": [
  {
   "cell_type": "code",
   "execution_count": 0,
   "metadata": {
    "application/vnd.databricks.v1+cell": {
     "cellMetadata": {
      "byteLimit": 2048000,
      "rowLimit": 10000
     },
     "inputWidgets": {},
     "nuid": "d459cad7-04fc-439c-b5f8-dc2f9486a744",
     "showTitle": false,
     "tableResultSettingsMap": {},
     "title": ""
    }
   },
   "outputs": [
    {
     "output_type": "stream",
     "name": "stdout",
     "output_type": "stream",
     "text": [
      "Python interpreter will be restarted.\nRequirement already satisfied: requests in /databricks/python3/lib/python3.9/site-packages (2.27.1)\nRequirement already satisfied: matplotlib in /databricks/python3/lib/python3.9/site-packages (3.5.1)\nRequirement already satisfied: charset-normalizer~=2.0.0 in /databricks/python3/lib/python3.9/site-packages (from requests) (2.0.4)\nRequirement already satisfied: idna<4,>=2.5 in /databricks/python3/lib/python3.9/site-packages (from requests) (3.3)\nRequirement already satisfied: certifi>=2017.4.17 in /databricks/python3/lib/python3.9/site-packages (from requests) (2021.10.8)\nRequirement already satisfied: urllib3<1.27,>=1.21.1 in /databricks/python3/lib/python3.9/site-packages (from requests) (1.26.9)\nRequirement already satisfied: pyparsing>=2.2.1 in /databricks/python3/lib/python3.9/site-packages (from matplotlib) (3.0.4)\nRequirement already satisfied: packaging>=20.0 in /databricks/python3/lib/python3.9/site-packages (from matplotlib) (21.3)\nRequirement already satisfied: numpy>=1.17 in /databricks/python3/lib/python3.9/site-packages (from matplotlib) (1.21.5)\nRequirement already satisfied: cycler>=0.10 in /databricks/python3/lib/python3.9/site-packages (from matplotlib) (0.11.0)\nRequirement already satisfied: kiwisolver>=1.0.1 in /databricks/python3/lib/python3.9/site-packages (from matplotlib) (1.3.2)\nRequirement already satisfied: pillow>=6.2.0 in /databricks/python3/lib/python3.9/site-packages (from matplotlib) (9.0.1)\nRequirement already satisfied: python-dateutil>=2.7 in /databricks/python3/lib/python3.9/site-packages (from matplotlib) (2.8.2)\nRequirement already satisfied: fonttools>=4.22.0 in /databricks/python3/lib/python3.9/site-packages (from matplotlib) (4.25.0)\nRequirement already satisfied: six>=1.5 in /databricks/python3/lib/python3.9/site-packages (from python-dateutil>=2.7->matplotlib) (1.16.0)\nPython interpreter will be restarted.\n"
     ]
    },
    {
     "output_type": "display_data",
     "data": {
      "application/vnd.databricks.v1+bamboolib_hint": "{\"pd.DataFrames\": [], \"version\": \"0.0.1\"}",
      "text/plain": []
     },
     "metadata": {},
     "output_type": "display_data"
    },
    {
     "output_type": "stream",
     "name": "stdout",
     "output_type": "stream",
     "text": [
      "All data quality checks passed!\nData saved to Delta Lake!\nLatest Crypto Prices:\n"
     ]
    },
    {
     "output_type": "display_data",
     "data": {
      "text/html": [
       "<style scoped>\n",
       "  .table-result-container {\n",
       "    max-height: 300px;\n",
       "    overflow: auto;\n",
       "  }\n",
       "  table, th, td {\n",
       "    border: 1px solid black;\n",
       "    border-collapse: collapse;\n",
       "  }\n",
       "  th, td {\n",
       "    padding: 5px;\n",
       "  }\n",
       "  th {\n",
       "    text-align: left;\n",
       "  }\n",
       "</style><div class='table-result-container'><table class='table-result'><thead style='background-color: white'><tr><th>market_cap</th><th>price_usd</th><th>symbol</th><th>timestamp</th><th>volume_24h</th><th>price_change_24h</th></tr></thead><tbody><tr><td>1.3795925729724E11</td><td>2.35</td><td>XRP</td><td>2025-05-24T12:48:41.770+0000</td><td>2.59667765469E9</td><td>null</td></tr><tr><td>1.5272818467184E11</td><td>1.0</td><td>USDT</td><td>2025-05-24T12:48:41.770+0000</td><td>8.764379676893E10</td><td>null</td></tr><tr><td>6.172725034741E10</td><td>1.0</td><td>USDC</td><td>2025-05-24T12:48:41.770+0000</td><td>1.163642882258E10</td><td>null</td></tr><tr><td>2.575183622124E10</td><td>0.27</td><td>TRX</td><td>2025-05-24T12:48:41.770+0000</td><td>6.7459832895E8</td><td>null</td></tr><tr><td>9.180219874738E10</td><td>176.44</td><td>SOL</td><td>2025-05-24T12:48:41.770+0000</td><td>5.06003039652E9</td><td>null</td></tr><tr><td>3.085818475403E11</td><td>2556.05</td><td>ETH</td><td>2025-05-24T12:48:41.770+0000</td><td>1.845374891844E10</td><td>null</td></tr><tr><td>3.410734043714E10</td><td>0.23</td><td>DOGE</td><td>2025-05-24T12:48:41.770+0000</td><td>2.03499532554E9</td><td>null</td></tr><tr><td>2.16138103956056E12</td><td>108780.6</td><td>BTC</td><td>2025-05-24T12:48:41.770+0000</td><td>5.927154553861E10</td><td>null</td></tr><tr><td>9.512226881043E10</td><td>675.16</td><td>BNB</td><td>2025-05-24T12:48:41.770+0000</td><td>1.73267910476E9</td><td>null</td></tr><tr><td>2.683833967236E10</td><td>0.76</td><td>ADA</td><td>2025-05-24T12:48:41.770+0000</td><td>9.2557063414E8</td><td>null</td></tr></tbody></table></div>"
      ]
     },
     "metadata": {
      "application/vnd.databricks.v1+output": {
       "addedWidgets": {},
       "aggData": [],
       "aggError": "",
       "aggOverflow": false,
       "aggSchema": [],
       "aggSeriesLimitReached": false,
       "aggType": "",
       "arguments": {},
       "columnCustomDisplayInfos": {},
       "data": [
        [
         1.3795925729724E11,
         2.35,
         "XRP",
         "2025-05-24T12:48:41.770+0000",
         2.59667765469E9,
         null
        ],
        [
         1.5272818467184E11,
         1.0,
         "USDT",
         "2025-05-24T12:48:41.770+0000",
         8.764379676893E10,
         null
        ],
        [
         6.172725034741E10,
         1.0,
         "USDC",
         "2025-05-24T12:48:41.770+0000",
         1.163642882258E10,
         null
        ],
        [
         2.575183622124E10,
         0.27,
         "TRX",
         "2025-05-24T12:48:41.770+0000",
         6.7459832895E8,
         null
        ],
        [
         9.180219874738E10,
         176.44,
         "SOL",
         "2025-05-24T12:48:41.770+0000",
         5.06003039652E9,
         null
        ],
        [
         3.085818475403E11,
         2556.05,
         "ETH",
         "2025-05-24T12:48:41.770+0000",
         1.845374891844E10,
         null
        ],
        [
         3.410734043714E10,
         0.23,
         "DOGE",
         "2025-05-24T12:48:41.770+0000",
         2.03499532554E9,
         null
        ],
        [
         2.16138103956056E12,
         108780.6,
         "BTC",
         "2025-05-24T12:48:41.770+0000",
         5.927154553861E10,
         null
        ],
        [
         9.512226881043E10,
         675.16,
         "BNB",
         "2025-05-24T12:48:41.770+0000",
         1.73267910476E9,
         null
        ],
        [
         2.683833967236E10,
         0.76,
         "ADA",
         "2025-05-24T12:48:41.770+0000",
         9.2557063414E8,
         null
        ]
       ],
       "datasetInfos": [],
       "dbfsResultPath": null,
       "isJsonSchema": true,
       "metadata": {},
       "overflow": false,
       "plotOptions": {
        "customPlotOptions": {},
        "displayType": "table",
        "pivotAggregation": null,
        "pivotColumns": null,
        "xColumns": null,
        "yColumns": null
       },
       "removedWidgets": [],
       "schema": [
        {
         "metadata": "{}",
         "name": "market_cap",
         "type": "\"double\""
        },
        {
         "metadata": "{}",
         "name": "price_usd",
         "type": "\"double\""
        },
        {
         "metadata": "{}",
         "name": "symbol",
         "type": "\"string\""
        },
        {
         "metadata": "{}",
         "name": "timestamp",
         "type": "\"timestamp\""
        },
        {
         "metadata": "{}",
         "name": "volume_24h",
         "type": "\"double\""
        },
        {
         "metadata": "{}",
         "name": "price_change_24h",
         "type": "\"double\""
        }
       ],
       "type": "table"
      }
     },
     "output_type": "display_data"
    },
    {
     "output_type": "display_data",
     "data": {
      "image/png": "[encoded data removed]"
     },
     "metadata": {
      "application/vnd.databricks.v1+output": {
       "addedWidgets": {},
       "arguments": {},
       "data": "data:image/png;base64,iVBORw0KGgoAAAANSUhEUgAAAukAAAGDCAYAAACWQ46qAAAAOXRFWHRTb2Z0d2FyZQBNYXRwbG90bGliIHZlcnNpb24zLjUuMSwgaHR0cHM6Ly9tYXRwbG90bGliLm9yZy/YYfK9AAAACXBIWXMAAAsTAAALEwEAmpwYAAA6gElEQVR4nO3de5xWVb348c+3QbnIVVAi0EREAW8DkpeyGrME8kJ5PGl1FLrAT8MsybxUJy+lmVmal1NSKXi8oOlJzQSPCePJo6ioo4BgoqJgeAFUQOAg4/r98WymB5xhRpjLnmc+79frec3ea6+99nc/s2C+s2bt9URKCUmSJEn58aGWDkCSJEnSpkzSJUmSpJwxSZckSZJyxiRdkiRJyhmTdEmSJClnTNIlSZKknDFJlyTlVkRMi4gxLR1HY4iIFBF7tHQckloHk3RJbU5EfCUiZkfE6ohYmiWChzbRtSoj4ptN0XZrFBGTI2J99t6viIj7ImJQXfVTSqNSSlMa8frTsmuvjoh3i2JZHRG/bazrSNK2MkmX1KZExETgcuAioDewK/AfwOg66rdrtuAaUUSUbbafp/u4JKXUGegHvA5M3rxCFDT6z6gs6e+cXf/GjbFkr5OLrp+n90tSG2SSLqnNiIhuwAXAhJTSf6WU3kkpvZtS+nNK6ftZnfMi4raIuCEiVgJnR8SaiOhZ1M6wiHgjIraLiLER8b8RcVVEvB0RCyLi8KzehcAngauykdqrsvKPR8RjWf3HIuLjRW3vGBHXRcQ/IuLNiLgjKx8bEQ9udj810yeyEerfRMQ9EfEOcFhELIqIsyLiaeCdiGgXEQdHxEMR8VZEPBURFUXtVUbET7L7WRUR/x0RvYqOH1p07uIspo9FxGvFvxRExLER8VR934+U0hrgJmCfoutfGBH/C6wBdt/8LxERMS4i5mfxPRMRw7Lyj0TE7dn35cWIOK2+628uez8nRMRzwHNZ2VERUZXd80MRsV9R/UURcUZEPJ19L2+JiA5Fx7+f/aXmHxHx9c2u9fks/lUR8UpEnPFB45VU2kzSJbUlhwAdgD/VU280cBvQHfglUAl8qej4icDUlNK72f5BwPNAL+Bc4L8iYseU0g+BvwGnZiO1p0bEjsBfgCuAnsCvgL8U/RLwn0AnYG9gZ+CyD3B/XwEuBLoAGxP6LwNHZvfSO7v2T4EdgTOA2yNip83a+Fp27e2zOkTER4FpwJXATkA5UJVSegxYDhyx2ftzfX3BRkRn4KvAk5udOz67h5c2q/+vwHnASUBX4BhgeTbi/mfgKaAvcDjw3YgYUV8MtfgChe/nkIgYClwL/D8K36trgLsion1R/S8BI4H+wH7A2CzWkRTeu88BA4HPbnadPwD/L6XUhcIvKTO2IlZJJcwkXVJb0hNYllLaUE+9h1NKd6SU3ksprQWmAP8GNdNIvkwhmd7odeDybFT+FuBZColxbY4Enksp/WdKaUNK6WZgAXB0RPQBRgEnp5TezNp74APc350ppf/N4l6XlV2RUlqc3ce/AfeklO7J6twHzAY+X9TGdSmlv2f1b6WQjEMhef9rSunmLK7lKaWq7Fjx+7MjMILCCHldzoiIt4CFQGeyxDYzOaU0L3tv3t3svG9SmJ7yWCpYmFJ6CfgYsFNK6YKU0vqU0gvA74ATGvCebe5nKaUV2f2PB65JKT2SUqrO5sb/H3BwUf0rUkr/SCmtoPCLQnlW/iUK7+XclNI7FH65KPYuhV8Eumbf6ye2IlZJJcwkXVJbshzo1YD5xos327+TQkLVn8LI6NsppUeLjr+SUkpF+y8BH6mj7Y+w2Qhxtt8X2AVYkVJ6s574Ghr35mUfBf41m7rxVpYoHwr0KarzatH2GgpJNFlsz9dx3Rso/JKxA4Xk9G8ppaVbiPPSlFL3lNKHU0rHpJSK263tHjaqK4aPAh/Z7L5+QOEvBx/U5u/X9zZrdxc2/d7W9X59ZLO2Nv+e/wuFX45eiogHIuKQrYhVUgnzwRhJbcnDFEZCv0BhOktd0iY7Ka2LiFspjBYPYtNRdIC+ERFFifquwF21tQX8g0LyV2xXYDqFpG7HiOieUnprszrvUJgGA0BEfLi+uGspWwz8Z0ppXC316rMYOLC2AymlVyLiYeBYCtNVfrMV7dc0V08MA+oofzGlNHAbrlvb9RcDF6aULtyKdpZSSOg32nWTixSmCY2OiO2AUyn81aK4vqQ2zpF0SW1GSult4MfA1RHxhYjoFIWHP0dFxCX1nH49hWkZx/D+JH1n4LSsrX8FBgP3ZMdeA3YvqnsPsGcUloFsFxHHA0OAu7PR52nAf0REj6y9T2XnPQXsHRHl2cOJ523FW7BxxHtERJRFRIeIqIiIfg0490bgsxHxpSzunhFRXnT8euBMYF/gv7Yitob4PYWpMgdEwR7ZXPlHgVVReEi2Y3Zv+0TEx7bxer8DTo6Ig7Lr7RARR0ZElwaceyswNiKGREQnCs8qABAR20fEVyOiWzalZyXw3jbGKqnEmKRLalNSSr8EJgI/At6gMFp6KnBHPef9L4VE6olsHnSxRyg8HLiMwoObx6WUlmfHfg0cF4WVWq7Iyo8Cvkdh+s2ZwFEppWVZ/RMpzFdeQGGu+3ez6/+dwso0f6Ww8sgmK7008N4XU3go9gdF9/59GvCzIKX0MoXpGd8DVgBVwP5FVf5E4S8Ef8pWbWl0KaU/Unh/bwJWUfie7ZhSqqbwnpYDL1L4Pvwe6LaN15sNjAOuAt6kMId+bAPPnUZhqc8Z2XmbPxh6IrAoCisInUzhAVpJqhGbTqOUJNUlImYAN6WUfl9UNhb4ZkqpST4MqTWJiOcprFjy15aORZJaO+ekS1IDZFMnhlHHhx61dRHxLxTmc7uUoCQ1ApN0SapHREyh8LDpd1JKq1o4nNyJiEoK8+pPTCk5t1qSGoHTXSRJkqSc8cFRSZIkKWdM0iVJkqSccU56ZuTIkWn69OmMHDmSZcuW1X9CTr3zzjvssMMOLR2G1CD2V7Um9le1Zvbf/Hj88cdXAg+nlEZuqZ5JemZjYj59+vQWjmTbVFZWUlFR0dJhSA1if1VrYn9Va2b/zY+IeK6+BB2c7iJJkiTljkm6JEmSlDMm6ZIkSVLOOCddkiRJje7dd99lyZIlrFu3rqVDaREdOnSgX79+bLfddlt1vkm6JEmSGt2SJUvo0qULu+22GxHR0uE0q5QSy5cvZ8mSJfTv33+r2nC6iyRJkhrdunXr6NmzZ5tL0AEigp49e27TXxFM0iVJktQk2mKCvtG23rtJuiRJkkrWHXfcQUSwYMECABYtWkTHjh0ZOnQogwcP5sADD2Ty5MnvO6+8vJwTTjihmaP9J5N0SZIklaybb76ZQw89lJtvvrmmbMCAATz55JPMnz+fqVOncvnll3PdddfVHJ8/fz7V1dX87W9/45133mmJsE3SJUmSVJpWr17Ngw8+yB/+8AemTp1aa53dd9+dX/3qV1xxxRU1ZTfffDMnnngiRxxxBHfeeWdzhbsJV3eRJElSkzr/z/N45h8rG7XNIR/pyrlH773FOnfeeScjR45kzz33pGfPnjz++OP07NnzffWGDRtWMx0G4JZbbuG+++5jwYIFXHnllXzlK19p1NgbwpF0SZIklaSbb765Zl75CSecsMmUl2IppZrt2bNn06tXL3bddVcOP/xwnnzySVasWNEs8RZzJF2SJElNqr4R76awYsUKZsyYwZw5c4gIqquriQgmTJjwvrpPPvkkgwcPBgqJ/YIFC9htt90AWLlyJbfffjvjxo1rzvAdSZckSVLpue222zjxxBN56aWXWLRoEYsXL6Z///4sXrx4k3qLFi3ijDPO4Nvf/jbvvfcet956K3PmzGHRokUsWrSIO++8s84R+KbkSLokSZJKzs0338xZZ521Sdm//Mu/8LOf/Yznn3+eoUOHsm7dOrp06cJpp53G2LFjeeCBB+jbty8f+chHas751Kc+xTPPPMPSpUvp06dPs8Vvki5JkqSSM3PmzPeVnXbaaZx22ml1nvPpT3+aWbNmbVJWVlbGq6++2ujx1cfpLpIkSVLOmKRLkiRJOWOSLkmSJOWMSbokSZKUMybpkiRJUs6YpEuSJEk5Y5IuSZKkklRWVkZ5eTn7778/w4YN46GHHgIKH2AUEVx55ZU1dU899VQmT54MwNixY+nfvz/l5eUMGjSI888/v9ljN0mXJElSSerYsSNVVVU89dRT/OxnP+Occ86pObbzzjvz61//mvXr19d67i9+8QuqqqqoqqpiypQpvPjii80VNmCSLkmSpDZg5cqV9OjRo2Z/p5124vDDD2fKlClbPG/dunUA7LDDDk0a3+b8xFFJkiQ1rWlnw6tzGrfND+8Loy7eYpW1a9dSXl7OunXrWLp0KTNmzNjk+FlnncWoUaP4+te//r5zv//97/PTn/6UhQsXctppp7Hzzjs3avj1cSRdkiRJJWnjdJcFCxYwffp0TjrpJFJKNcd33313DjroIG666ab3nbtxusurr77K/fffXzOfvbk4ki5JkqSmVc+Id3M45JBDWLZsGW+88cYm5T/4wQ847rjj+PSnP13reZ07d6aiooIHH3yQj3/8480RKuBIuiRJktqABQsWUF1dTc+ePTcpHzRoEEOGDOHPf/5zredt2LCBRx55hAEDBjRHmDUcSZckSVJJ2jgnHSClxJQpUygrK3tfvR/+8IcMHTp0k7KNc9LXr1/P4YcfzrHHHtscIdcwSZckSVJJqq6urrV8t912Y+7cuTX7+++/P++9917N/sb10luS010kSZKknDFJlyRJknKmyZL0iLg2Il6PiLlFZTtGxH0R8Vz2tUdWHhFxRUQsjIinI2JY0TljsvrPRcSYovIDImJOds4VERFbuoYkSZLUWjTlSPpkYORmZWcD96eUBgL3Z/sAo4CB2Ws88BsoJNzAucBBwIHAuUVJ92+AcUXnjaznGpIkSVKr0GRJekrpf4AVmxWPBjZ+9uoU4AtF5dengllA94joA4wA7ksprUgpvQncB4zMjnVNKc1KhRXpr9+srdquIUmSJLUKzb26S++U0tJs+1Wgd7bdF1hcVG9JVral8iW1lG/pGu8TEeMpjNzTu3dvKisrP+Dt5M/q1atL4j7UNthf1ZrYX9WatUT/7datG6tWrWrWa+bNunXrtvp9b7ElGFNKKSJS/TWb7hoppUnAJIDhw4enioqKpgynWVRWVlIK96G2wf6q1sT+qtasJfrv/Pnz6dKlS7Nec3NlZWXsu+++pJQoKyvjqquuokuXLpx44okAvPzyy3Tr1o1u3brRq1cvpk2bxr//+79z++2306VLF9q3b8+Pf/xjRo0atVXX79Chw/vWX2+o5k7SX4uIPimlpdmUldez8leAXYrq9cvKXgEqNiuvzMr71VJ/S9eQJElSG9KxY0eqqqoAuPfeeznnnHN44IEHasrGjh3LUUcdxXHHHQfA2WefzdKlS5k7dy7t27fntdde44EHHmiR2Jt7Cca7gI0rtIwB7iwqPylb5eVg4O1sysq9wBER0SN7YPQI4N7s2MqIODhb1eWkzdqq7RqSJElqo1auXEmPHnUv+rdmzRp+97vfceWVV9K+fXugMB36S1/6UnOFuIkmG0mPiJspjIL3ioglFFZpuRi4NSK+AbwEbLzre4DPAwuBNcDXAFJKKyLiJ8BjWb0LUkobH0b9FoUVZDoC07IXW7iGJEmSWsDPH/05C1YsaNQ2B+04iLMOPGuLddauXUt5eTnr1q1j6dKlzJgxo866CxcuZNddd6Vr166NGufWarIkPaX05ToOHV5L3QRMqKOda4FraymfDexTS/ny2q4hSZKktqV4usvDDz/MSSedxNy5c8k+XifXWuzBUUmSJLUN9Y14N4dDDjmEZcuW8cYbb7Dzzju/7/gee+zByy+/zMqVK3Mxmt7cc9IlSZKkZrdgwQKqq6vp2bNnrcc7derEN77xDb7zne+wfv16AN544w3++Mc/NmeYNRxJlyRJUknaOCcdIKXElClTKCsrq7P+T3/6U370ox8xZMgQOnTowA477MAFF1zQTNFuyiRdkiRJJam6unqLxydPnrzJ/vbbb88ll1zCJZdc0oRRNYzTXSRJkqScMUmXJEmScsYkXZIkScoZk3RJkiQpZ0zSJUmSpJwxSZckSZJyxiRdkiRJJamsrIzy8nL23ntv9t9/f375y1/y3nvv1Rx/8MEHOfDAAxk0aBCDBg1i0qRJm5x/ww03sN9++9Wc/81vfpO33noLgIqKCvbaay/Ky8spLy/nuOOOa9TYXSddkiRJJaljx45UVVUB8Prrr/OVr3yFlStXcv755/Pqq6/yla98hTvuuINhw4axbNkyRowYQd++fTnyyCOZPn06l112GdOmTaNv375UV1czZcoUXnvtNbp37w7AjTfeyPDhw5skdkfSJUmSVPJ23nlnJk2axFVXXUVKiauvvpqxY8cybNgwAHr16sUll1zCxRdfDMCFF17IpZdeSt++fYHCqPzXv/519tprr2aJ15F0SZIkNalXL7qI/5u/oFHbbD94EB/+wQ8+0Dm777471dXVvP7668ybN48xY8Zscnz48OHMmzcPgHnz5tUk8HX56le/SseOHQH43Oc+xy9+8YsPFM+WmKRLkiRJWzBnzhxOPPFEVq1axUUXXcTxxx8PNO10F5N0SZIkNakPOuLdVF544QXKysrYeeedGTJkCI8//jijR4+uOf7444+z9957A7D33nvzxBNPcNhhh7HvvvtSVVXFqaeeytq1a5slVuekS5IkqeS98cYbnHzyyZx66qlEBBMmTGDy5Mk1D5YuX76cs846izPPPBOAc845hzPOOIMlS5bUtNFcCTo4ki5JkqQStXbtWsrLy3n33Xdp164dJ554IhMnTgSgT58+3HDDDYwbN45Vq1aRUuK73/0uRx99NACf//zneeONNxg1ahTV1dV0796dffbZhxEjRtS0XzwnvVevXvz1r39ttNhN0iVJklSSqqurt3j8U5/6FI899lidx8eMGfO+h0s3qqys3JbQ6uV0F0mSJClnTNIlSZKknDFJlyRJknLGJF2SJEnKGZN0SZIkKWdM0iVJkqScMUmXJElSSSorK6O8vLzmdfHFF/PFL36R8vJy9thjD7p161Zz7KGHHqKiooLZs2fXnL9o0SL22WefFondddIlSZJUkjp27FjziaKbq6ys5NJLL+Xuu+9u3qAayJF0SZIkKWccSZckSVKT+tutf2fZ4tWN2mavXTrzyS/tucU6a9eupby8vGb/nHPO4fjjj9/iOV/96lfp2LEjAOvXr+dDH2qZMW2TdEmSJJWkLU13qcuNN97I8OHDgcKc9KOOOqoJIqufSbokSZKaVH0j3no/56RLkiRJOeNIuiRJkkrS5nPSR44cycUXX9xyAX0AJumSJEkqSdXV1XUeq6iooKKiYpOyysrKTfZ322035s6d2wSR1c/pLpIkSVLOmKRLkiRJOWOSLkmSJOWMSbokSZKUMybpkiRJUs6YpEuSJEk5Y5IuSZKkknXhhRey9957s99++1FeXs4jjzzC+vXr+e53v8see+zBwIEDGT16NEuWLKk5p3Pnzi0YcYHrpEuSJKkkPfzww9x999088cQTtG/fnmXLlrF+/Xp+8IMfsGrVKp599lnKysq47rrrOPbYY3nkkUeIiJYOG3AkXZIkSSVq6dKl9OrVi/bt2wPQq1cvunfvznXXXcdll11GWVkZAF/72tdo3749M2bMaMlwN+FIuiRJkprUzMmTeP2lFxq1zZ0/ujuHjR2/xTpHHHEEF1xwAXvuuSef/exnOf744+nRowe77rorXbt23aTu8OHDmTdvHocffnijxrm1HEmXJElSSercuTOPP/44kyZNYqedduL444+nsrKypcNqkBYZSY+I04FvAgmYA3wN6ANMBXoCjwMnppTWR0R74HrgAGA5cHxKaVHWzjnAN4Bq4LSU0r1Z+Ujg10AZ8PuU0sXNd3eSJEkqVt+Id1MqKyujoqKCiooK9t13X6655hpefvllVq1aRZcuXWrqPf744xx11FEtFufmmn0kPSL6AqcBw1NK+1BIpE8Afg5cllLaA3iTQvJN9vXNrPyyrB4RMSQ7b29gJPAfEVEWEWXA1cAoYAjw5ayuJEmS2pBnn32W5557rma/qqqKvfbaizFjxjBx4kSqq6sBuP7661mzZg2f+cxnWirU92mpOentgI4R8S7QCVgKfAb4SnZ8CnAe8BtgdLYNcBtwVRQeux0NTE0p/R/wYkQsBA7M6i1MKb0AEBFTs7rPNPE9SZIkKUdWr17Nt7/9bd566y3atWvHHnvswaRJk+jSpQtnnHEGe+65Jx/60IcYNGgQf/rTn2pWdlmzZg39+vWraWfixIlMnDixWWNv9iQ9pfRKRFwKvAysBf6bwvSWt1JKG7JqS4C+2XZfYHF27oaIeJvClJi+wKyipovPWbxZ+UFNcCuSJEnKsQMOOICHHnqo1mNXXnklV155Za3H3nvvvaYMq0GaPUmPiB4URrb7A28Bf6QwXaXZRcR4YDxA7969W82DBFuyevXqkrgPtQ32V7Um9le1Zi3Rf7t168aqVaua9Zp5s27duq1+31tiustngRdTSm8ARMR/AZ8AukdEu2w0vR/wSlb/FWAXYElEtAO6UXiAdGP5RsXn1FW+iZTSJGASwPDhw1NFRcU231xLq6yspBTuQ22D/VWtif1VrVlL9N/58+dv8mBmW9ShQweGDh26Vee2xBKMLwMHR0SnbG754RTmi88EjsvqjAHuzLbvyvbJjs9IKaWs/ISIaB8R/YGBwKPAY8DAiOgfEdtTeLj0rma4L0mSJKlRtMSc9Eci4jbgCWAD8CSF0ey/AFMj4qdZ2R+yU/4A/Gf2YOgKCkk3KaV5EXErhQR/AzAhpVQNEBGnAvdSWDnm2pTSvOa6P0mSJGlbtcjqLimlc4FzNyt+gX+uzlJcdx3wr3W0cyFwYS3l9wD3bHukkiRJUvPzE0clSZKknDFJlyRJUslZvnw55eXllJeX8+EPf5i+ffvW7EcE5eXl7LPPPhx99NG89dZbAMyePZu9996b9evXA/D888+z++67s3LlymaP3yRdkiRJJadnz55UVVVRVVXFySefzOmnn16zv8MOO1BVVcXcuXPZcccdufrqqwEYPnw4n/70p7n00ksBmDBhAhdeeCFdu3Zt9vhb6hNHJUmSpBZ3yCGH8PTTT9fsX3TRRQwdOpR27dqxYcMGvvzlL7dIXCbpkiRJalJv/fl51v/jnUZtc/uP7ED3owdsUxvV1dXcf//9fOMb36gp6969O2effTbf+ta3eOaZZ7Y1zK3mdBdJkiS1KWvXrq2Zq/7aa6/xuc99bpPj06ZNo3fv3i2apDuSLkmSpCa1rSPeja1jx45UVVWxZs0aRowYwdVXX81pp50GwN13383bb7/Nvffeyxe/+EVGjBhBp06dmj1GR9IlSZLUJnXq1IkrrriCX/7yl2zYsIG1a9cyceJErr76avbdd19Gjx7NhRe+7yN5moUj6ZIkSWqzhg4dyn777cfNN9/M/Pnz+eIXv8iQIUMAOO+889h///0ZO3YsAwcObNa4TNIlSZJU0s4777xN9levXr3J/p///Odaz+vSpQsvvPBCU4W1RU53kSRJknLGJF2SJEnKGZN0SZIkKWdM0iVJkqScMUmXJEmScsYkXZIkScoZk3RJkiSVpEWLFrHPPvtsUnbeeedx6aWXMmvWLA466CDKy8sZPHhwzTKNkydPZqeddmLo0KEMHDiQESNG8NBDD23SxqWXXsqgQYMoLy/nYx/7GNdff32jx+466ZIkSWpzxowZw6233sr+++9PdXU1zz77bM2x448/nquuugqAmTNncuyxxzJz5kwGDx7Mb3/7W+677z4effRRunbtysqVK/nTn/7U6PE5ki5JkqQ25/XXX6dPnz4AlJWV1XzK6OYOO+wwxo8fz6RJkwC46KKL+M1vfkPXrl0B6Nq1K2PGjGn0+BxJlyRJUpOaNm0ar776aqO2+eEPf5hRo0Zt9fmnn346e+21FxUVFYwcOZIxY8bQoUOHWusOGzaMa665hpUrV7Jq1Sp23333rb5uQzmSLkmSpJIUEXWW//jHP2b27NkcccQR3HTTTYwcObLOdlJKTRVinRxJlyRJUpPalhHvbdGzZ0/efPPNTcpWrFhB//79ARgwYACnnHIK48aNY6eddmL58uW1tvPkk08yePBgunbtSufOnXnhhReafDTdkXRJkiSVpM6dO9OnTx9mzJgBFBL06dOnc+ihh/KXv/ylZoT8ueeeo6ysjO7du7+vjQceeIBJkyYxbtw4AM455xwmTJjAypUrAVi9erWru0iSJEkfxPXXX8+ECROYOHEiAOeeey4DBgzghz/8IaeffjqdOnWiXbt23HjjjZSVlQFwyy238OCDD7JmzRr69+/P7bffzuDBgwE45ZRTWL16NR/72MfYbrvt2G677fje977X6HGbpEuSJKlkDRkyhJkzZ76vfOrUqbXWHzt2LGPHjq2zvYjgzDPP5Mwzz2ysEGvldBdJkiQpZ0zSJUmSpJwxSZckSZJyxiRdkiRJyhmTdEmSJClnTNIlSZKknDFJlyRJUklatGgR++yzzyZl5513HpdeeimzZs3ioIMOory8nMGDB3PeeecBMHnyZHbaaSeGDh3KwIEDGTFiBA899BAAEyZMoLy8nCFDhtCxY0fKy8spLy/ntttua/TYXSddkiRJbc6YMWO49dZb2X///amurubZZ5+tOXb88cdz1VVXATBz5kyOPfZYZs6cydVXXw0Ukv+jjjqKqqqqJovPkXRJkiS1Oa+//jp9+vQBoKysjCFDhtRa77DDDmP8+PFMmjSpOcNzJF2SJElN6+9//wmrVs9v1Da7dB7Mnnv++1aff/rpp7PXXntRUVHByJEjGTNmDB06dKi17rBhw7jmmmu2+lpbw5F0SZIklaSIqLP8xz/+MbNnz+aII47gpptuYuTIkXW2k1JqqhDr5Ei6JEmSmtS2jHhvi549e/Lmm29uUrZixQr69+8PwIABAzjllFMYN24cO+20E8uXL6+1nSeffJLBgwc3ebzFHEmXJElSSercuTN9+vRhxowZQCFBnz59Ooceeih/+ctfakbIn3vuOcrKyujevfv72njggQeYNGkS48aNa87QHUmXJElS6br++uuZMGECEydOBODcc89lwIAB/PCHP+T000+nU6dOtGvXjhtvvJGysjIAbrnlFh588EHWrFlD//79uf3225t9JL3eJD0iDgH+Dfgk0AdYC8wF/gLckFJ6u0kjlCRJkrbSkCFDmDlz5vvKp06dWmv9sWPHMnbs2C22udtuuzF37tzGCK9OW5zuEhHTgG8C9wIjKSTpQ4AfAR2AOyPimCaNUJIkSWpj6htJPzGltGyzstXAE9nrlxHRq0kikyRJktqoLSbpGxP0iOgODMyK/148xaWWJF6SJEnSNthikh4R7YFrgC8ALwIBfDQi/gScnFJa3+QRSpIkSW1MfUsw/gjYDtglpTQ0pVQO7EohuW+ZBS8lSZKkEldfkv5FYFxKadXGgmz7W9kxSZIkSY2sviT9vZTSms0LU0qrga3+fNSI6B4Rt0XEgoiYHxGHRMSOEXFfRDyXfe2R1Y2IuCIiFkbE0xExrKidMVn95yJiTFH5ARExJzvniqjrM2ElSZJUkhYvXkz//v1ZsWIFAG+++Sb9+/dn0aJFdOzYkfLycoYMGcJJJ53Eu+++C0BlZSXdunWjvLycwYMHc/7557dY/PUl6SkiemQJ9CYv4L1tuO6vgekppUHA/sB84Gzg/pTSQOD+bB9gFIWHVgcC44HfAGQxnAscBBwInLsxsc/qjCs6b+Q2xCpJkqRWZpddduGUU07h7LMLKeXZZ5/N+PHjARgwYABVVVXMmTOHJUuWcOutt9ac98lPfpKqqipmz57NDTfcwBNPPNEi8deXpHcDHq/j1WVrLhgR3YBPAX8ASCmtTym9BYwGpmTVplB4WJWs/PpUMAvoHhF9gBHAfSmlFSmlN4H7gJHZsa4ppVmp8Fmv1xe1JUmSpDbi9NNPZ9asWVx++eU8+OCDnHHGGZscLysr48ADD+SVV15537k77LADBxxwAAsXLmyucDdR3xKMuzXBNfsDbwDXRcT+FBL+7wC9U0pLszqvAr2z7b7A4qLzl2RlWypfUkv5+0TEeAqj8/Tu3ZvKysqtvqm8WL16dUnch9oG+6taE/urWrOW6L/dunVj1arCY40/fXkZ89f8X6O2P7hTe360a/0f13P++edz7LHHcscdd7Bu3TpWr17Ne++9x6pVq1i3bh0PPfQQP//5z1m1ahVr1qxhw4YNrFq1iuXLl/Pwww8zceLEmvv4oNatW7fV73t9SzB+FHhr47roEXEYhVHpRcDVW7kEYztgGPDtlNIjEfFr/jm1BYCUUoqIrZ7z3lAppUnAJIDhw4enioqKpr5kk6usrKQU7kNtg/1VrYn9Va1ZS/Tf+fPn06VLYeLF9tu/Tdn6DY3a/vbbb1fT/pY88MAD9OnThxdeeIHRo0fTuXNnXnzxRT75yU/y4osvcuSRR3LIIYcA0KlTJx5++GE+9alP8aEPfYhzzjmHAw88cKtj7NChA0OHDt2qc+v7xNFbKazi8nZElAN/BH4GlAP/AXxzK665BFiSUnok27+NQpL+WkT0SSktzaasvJ4dfwXYpej8flnZK0DFZuWVWXm/WupLkiSpBfxkYL/6KzWBqqoq7rvvPmbNmsWhhx7KCSecAPxzTvqyZcv4xCc+wV133cUxxxwDFOak33333S0Sb7H65qR3TCn9I9v+N+DalNIvga9ReFjzA0spvQosjoi9sqLDgWeAu4CNK7SMAe7Mtu8CTspWeTkYeDubFnMvcET2YGsP4Ajg3uzYyog4OFvV5aSitiRJktQGpJQ45ZRTuPzyy9l11135/ve//7456b169eLiiy/mZz/7WQtFWbf6kvTipQs/Q2HVFVJK27KyC8C3gRsj4mkKo/IXARcDn4uI54DPZvsA9wAvAAuB31FYo52U0grgJ8Bj2euCrIyszu+zc54Hpm1jvJIkSWpFfve737Hrrrvyuc99DoBvfetbzJ8/n5deemmTel/4whdYs2YNf/vb31oizDrVN91lRkTcCiwFegAzALLpKFszHx2AlFIVMLyWQ4fXUjcBE+po51rg2lrKZwP7bG18kiRJat3Gjx9fs+QiFFZy2bic4ty5c2vKI4KnnnqqZj8vz57Ul6R/Fzge6AMcmlJ6Nyv/MPDDJoxLkiRJarPqW4IxAVNrKX+yySKSJEmS2rj6lmBcBRQvhZiAZcBM4KyU0vImjE2SJElqk7b44GhKqUtKqWvRqxuFueTzgN82S4SSJElqlQqTMtqmbb33+lZ3qe2Cb6aULgMGbNOVJUmSVLI6dOjA8uXL22SinlJi+fLldOjQYavbqO/B0VpFxHZbe64kSZJKX79+/ViyZAlvvPFGS4fSIjp06EC/flv/IU71zUk/tpbiHhRWfLltq68qSZKkkrbddtvRv3//lg6j1apvNPzozfYTsBz4dUrpL00TkiRJktS21bcE49eaKxBJkiRJBVt8cDQifhQRPbZw/DMRcVTjhyVJkiS1XfVNd5kD3B0R64AngDeADsBAoBz4K3BRUwYoSZIktTX1TXe5E7gzIgYCnwD6ACuBG4DxKaW1TR+iJEmS1LY0aBnFlNJzwHNNHIskSZIktuLDjCRJkiQ1LZN0SZIkKWdM0iVJkqScaVCSHhF7RsT9ETE3298vIn7UtKFJkiRJbVNDR9J/B5wDvAuQUnoaOKGpgpIkSZLasoYm6Z1SSo9uVrahsYORJEmS1PAkfVlEDAASQEQcByxtsqgkSZKkNqxB66QDE4BJwKCIeAV4Efi3JotKkiRJasMa+mFGLwCfjYgdgA+llFY1bViSJElS29XQ1V0uiojuKaV3UkqrIqJHRPy0qYOTJEmS2qKGzkkflVJ6a+NOSulN4PNNEpEkSZLUxjU0SS+LiPYbdyKiI9B+C/UlSZIkbaWGPjh6I3B/RFyX7X8NmNI0IUmSJEltW0MfHP15RDwNHJ4V/SSldG/ThSVJkiS1XQ0dSSelNA2Y1oSxSJIkSaKeJD0iHkwpHRoRq8g+yGjjISCllLo2aXSSJElSG7TFJD2ldGj2tUvzhCNJkiSp3tVdIqIsIhY0RzCSJEmSGpCkp5SqgWcjYtdmiEeSJElq8xr64GgPYF5EPAq8s7EwpXRMk0QlSZIktWENTdL/vUmjkCRJklSjvtVdOgAnA3sAc4A/pJQ2NEdgkiRJUltV35z0KcBwCgn6KOCXTR6RJEmS1MbVN91lSEppX4CI+APwaNOHJEmSJLVt9Y2kv7txw2kukiRJUvOobyR9/4hYmW0H0DHb9xNHJUmSpCZS3yeOljVXIJIkSZIK6v0wI0mSJEnNyyRdkiRJyhmTdEmSJClnTNIlSZKknDFJlyRJknLGJF2SJEnKmRZL0iOiLCKejIi7s/3+EfFIRCyMiFsiYvusvH22vzA7vltRG+dk5c9GxIii8pFZ2cKIOLvZb06SJEnaBi05kv4dYH7R/s+By1JKewBvAt/Iyr8BvJmVX5bVIyKGACcAewMjgf/IEv8y4GpgFDAE+HJWV5IkSWoVWiRJj4h+wJHA77P9AD4D3JZVmQJ8Idsene2THT88qz8amJpS+r+U0ovAQuDA7LUwpfRCSmk9MDWrK0mSJLUKW/zE0SZ0OXAm0CXb7wm8lVLakO0vAfpm232BxQAppQ0R8XZWvy8wq6jN4nMWb1Z+UG1BRMR4YDxA7969qays3OobyovVq1eXxH2obbC/qjWxv6o1s/+2Ps2epEfEUcDrKaXHI6Kiua9fLKU0CZgEMHz48FRR0aLhNIrKykpK4T7UNthf1ZrYX9Wa2X9bn5YYSf8EcExEfB7oAHQFfg10j4h22Wh6P+CVrP4rwC7AkohoB3QDlheVb1R8Tl3lkiRJUu41+5z0lNI5KaV+KaXdKDz4OSOl9FVgJnBcVm0McGe2fVe2T3Z8RkopZeUnZKu/9AcGAo8CjwEDs9Vits+ucVcz3JokSZLUKFpqTnptzgKmRsRPgSeBP2TlfwD+MyIWAisoJN2klOZFxK3AM8AGYEJKqRogIk4F7gXKgGtTSvOa9U4kSZKkbdCiSXpKqRKozLZfoLAyy+Z11gH/Wsf5FwIX1lJ+D3BPI4YqSZIkNRs/cVSSJEnKGZN0SZIkKWdM0iVJkqScMUmXJEmScsYkXZIkScoZk3RJkiQpZ0zSJUmSpJwxSZckSZJyxiRdkiRJyhmTdEmSJClnTNIlSZKknDFJlyRJknLGJF2SJEnKGZN0SZIkKWdM0iVJkqScMUmXJEmScsYkXZIkScoZk3RJkiQpZ0zSJUmSpJwxSZckSZJyxiRdkiRJyhmTdEmSJClnTNIlSZKknDFJlyRJknLGJF2SJEnKGZN0SZIkKWdM0iVJkqScMUmXJEmScsYkXZIkScoZk3RJkiQpZ0zSJUmSpJwxSZckSZJyxiRdkiRJyhmTdEmSJClnTNIlSZKknDFJlyRJknLGJF2SJEnKGZN0SZIkKWdM0iVJkqScMUmXJEmScsYkXZIkScoZk3RJkiQpZ0zSJUmSpJwxSZckSZJyxiRdkiRJyplmT9IjYpeImBkRz0TEvIj4Tla+Y0TcFxHPZV97ZOUREVdExMKIeDoihhW1NSar/1xEjCkqPyAi5mTnXBER0dz3KUmSJG2tlhhJ3wB8L6U0BDgYmBARQ4CzgftTSgOB+7N9gFHAwOw1HvgNFJJ64FzgIOBA4NyNiX1WZ1zReSOb4b4kSZKkRtHsSXpKaWlK6YlsexUwH+gLjAamZNWmAF/ItkcD16eCWUD3iOgDjADuSymtSCm9CdwHjMyOdU0pzUopJeD6orYkSZKk3GvXkhePiN2AocAjQO+U0tLs0KtA72y7L7C46LQlWdmWypfUUl7b9cdTGJ2nd+/eVFZWbv3N5MTq1atL4j7UNthf1ZrYX9Wa2X9bnxZL0iOiM3A78N2U0sriaeMppRQRqaljSClNAiYBDB8+PFVUVDT1JZtcZWUlpXAfahvsr2pN7K9qzey/rU+LrO4SEdtRSNBvTCn9V1b8WjZVhezr61n5K8AuRaf3y8q2VN6vlnJJkiSpVWiJ1V0C+AMwP6X0q6JDdwEbV2gZA9xZVH5StsrLwcDb2bSYe4EjIqJH9sDoEcC92bGVEXFwdq2TitqSJEmScq8lprt8AjgRmBMRVVnZD4CLgVsj4hvAS8CXsmP3AJ8HFgJrgK8BpJRWRMRPgMeyeheklFZk298CJgMdgWnZS5IkSWoVmj1JTyk9CNS1bvnhtdRPwIQ62roWuLaW8tnAPtsQpiRJktRi/MRRSZIkKWdM0iVJkqScMUmXJEmScsYkXZIkScoZk3RJkiQpZ0zSJUmSpJwxSZckSZJyxiRdkiRJyhmTdEmSJClnTNIlSZKknDFJlyRJknLGJF2SJEnKGZN0SZIkKWdM0iVJkqScMUmXJEmScsYkXZIkScoZk3RJkiQpZ0zSJUmSpJwxSZckSZJyxiRdkiRJyhmTdEmSJClnTNIlSZKknDFJlyRJknLGJF2SJEnKGZN0SZIkKWdM0iVJkqScMUmXJEmScsYkXZIkScoZk3RJkiQpZ0zSJUmSpJwxSZckSZJyxiRdkiRJyhmTdEmSJClnTNIlSZKknDFJlyRJknLGJF2SJEnKGZN0SZIkKWdM0iVJkqScMUmXJEmScsYkXZIkScoZk3RJkiQpZ0zSJUmSpJwxSZckSZJyxiRdkiRJyhmTdEmSJClnTNIlSZKknCnZJD0iRkbEsxGxMCLObul4JEmSpIYqySQ9IsqAq4FRwBDgyxExpGWjkiRJkhqmJJN04EBgYUrphZTSemAqMLqFY5IkSZIapF1LB9BE+gKLi/aXAAdtXikixgPjAXr37k1lZWWzBNeUVq9eXRL3obbB/qrWxP6q1sz+2/qUapLeICmlScAkgOHDh6eKioqWDagRVFZWUgr3obbB/qrWxP6q1sz+2/qU6nSXV4Bdivb7ZWWSJElS7pVqkv4YMDAi+kfE9sAJwF0tHJMkSZLUICU53SWltCEiTgXuBcqAa1NK81o4LEmSJKlBSjJJB0gp3QPc09JxSJIkSR9UqU53kSRJklotk3RJkiQpZ0zSJUmSpJwxSZckSZJyxiRdkiRJyhmTdEmSJClnTNIlSZKknDFJlyRJknLGJF2SJEnKmUgptXQMuRAR01NKIyNiOtCrpePZBr2AZS0dhNRA9le1JvZXtWb23/wYCDycUhq5pUom6SUmImanlIa3dBxSQ9hf1ZrYX9Wa2X9bH6e7SJIkSTljki5JkiTljEl66ZnU0gFIH4D9Va2J/VWtmf23lXFOuiRJkpQzjqRLkiRJOWOS3sgioiwinoyIu7P9wyPiiYioiogHI2KPLZy7a0SsjogzisqujYjXI2LuFs77ftZ+VUTMjYjqiNgxIvYqKq+KiJUR8d3snB0j4r6IeC772iMr7xYRf46IpyJiXkR8reg6l2Rl8yPiioiIrPyAiJgTEQuLy5V/Jd5ff561Pzciji8q7x8Rj2T99ZaI2H6b3kQ1mxLorz0i4k8R8XREPBoR+xRdZ2REPJv1y7OLyu2vJaLE+2+tsdTVlhoopeSrEV/AROAm4O5s/+/A4Gz7W8DkLZx7G/BH4Iyisk8Bw4C5Dbz+0cCMWsrLgFeBj2b7lwBnZ9tnAz/Ptn9QtL0TsALYHvg48L9ZO2XAw0BFVu9R4GAggGnAqJb+Pvhq8/31SOA+oB2wA/AY0DWrdytwQrb9W+CUlv4++Goz/fUXwLnZ9iDg/qLznwd2z/rvU8CQ7Jj9tURepdp/txRLXW35atjLkfRGFBH9KCQHvy8qTkDXbLsb8I86zv0C8CIwr7g8pfQ/FBKPhvoycHMt5YcDz6eUXsr2RwNTsu0pwBeK4u0SEQF0zq69ISvvQOEHSHtgO+C1iOhDIfmZlQr/Cq8vaks5VuL9dQjwPymlDSmld4CngZFZvc9Q+IG3eVvKsRLpr0OAGdm1FwC7RURv4EBgYUrphZTSemAqMNr+WjpKvP9uKZa62lIDmKQ3rsuBM4H3isq+CdwTEUuAE4GLASLimIi4INvuDJwFnL8tF4+ITsBI4PZaDp/Apv84e6eUlmbbrwK9s+2rgMEU/rOYA3wnpfReSulhYCawNHvdm1KaD/QFlhS1uyQrU/5dTon2VwojkSMjolNE9AIOA3YBegJvpZQ2ZOfbX1uPy2n9/fUp4NisvQOBjwL9KPTBxUXnb+yX9tfScTml23+3pK621AAm6Y0kIo4CXk8pPb7ZodOBz6eU+gHXAb8CSCndlVL6cVbnPOCylNLqbQzjaOB/U0qb/DabzWE8hsKfyt4nGwHfuMzPCKAK+AhQDlwVEV2zuXKD+ecPlM9ExCe3MV61kFLvryml/wbuAR6i8MPnYaB6G+NVCymh/nox0D0iqoBvA09ivyx59t9a21IDtGvpAErIJ4BjIuLzFKaFdI2IvwCDUkqPZHVuAabXcu5BwHERcQnQHXgvItallK76gDFs/tvwRqOAJ1JKrxWVvRYRfVJKS7MpK69n5V8DLs7+MS2MiBcpzD37NDBr438UETENOAT4Tzb9Tbof8MoHjFvNr9T766MppQuBCwEi4iYK8z+XU/gh0y4bnbS/tg4l0V9TSisp9FmyqSwvAi8AHSn8pWejjf3S/loaSr3/bkld/3erARxJbyQppXNSSv1SSrtR+Mcwg8JcrG4RsWdW7XPA/FrO/WRKabfs3MuBiz7oP8CI6EYhkb6zlsO1zUO7CxiTbY8pOu9lCvPTyOaa7UXhH+HLwKcjol1EbJdda372Z6yVEXFw9o/2pDpiUI6Uen+NwioKPbPy/YD9gP/OkvmZwHG1tKWcKpX+GhHd45+rs3yTwnMTKyk82DwwCiu5bJ/d413219LQBvrvltT1f7caIuXg6dVSewEV/PPp7S9SmCv7FFAJ7J6VHwNcUMu557Hp09s3U5gD/i6F+YjfyMpPBk4uqjcWmFpLeztQGI3ptll5T+B+4Dngr8COWflHgP/OYp4L/FtWXgZcQ+E/kWeAXxW1NTyr+zyFOcLR0t8DX22+v3bI+ukzwCygvKit3SmsSLSQwp9427f098BXm+mvh1D4i86zwH8BPYrO+Xx27Hngh0Xl9tcSepVw/60rllrb8tWwl584KkmSJOWM010kSZKknDFJlyRJknLGJF2SJEnKGZN0SZIkKWdM0iVJkqScMUmXpBISET0joip7vRoRr2TbqyPiP5rwuhUR8fGmal+S2ho/cVSSSkhKaTlQDhAR5wGrU0qXNsOlK4DVwEPNcC1JKnmOpEtSG5CNdN+dbZ8XEVMi4m8R8VJEHBsRl0TEnIiYnn2qMBFxQEQ8EBGPR8S92cd6ExGnRcQzEfF0REyNiN0ofIDK6dmo/Scj4uiIeCQinoyIv2afCPtBrr2oqPzRiNijRd44SWohJumS1DYNAD5D4dMNbwBmppT2BdYCR2bJ8pXAcSmlA4BrgQuzc88GhqaU9qPwyYaLgN8Cl6WUylNKfwMeBA5OKQ0FpgJnNvTaRfXezsqvovCR6JLUZjjdRZLapmkppXcjYg5QBkzPyucAuwF7AfsA90UEWZ2lWZ2ngRsj4g7gjjra7wfcko2+bw+8+AGuvdHNRV8v+8B3KEmtmCPpktQ2/R9ASuk94N2UUsrK36MwgBPAvGxkvDyltG9K6YiszpHA1cAw4LGIqG3A50rgqmwk/P8BHT7AtTdKdWxLUskzSZck1eZZYKeIOAQgIraLiL0j4kPALimlmcBZQDegM7AK6FJ0fjfglWx7zFbGcHzR14e3sg1JapWc7iJJep+U0vqIOA64IiK6Ufh5cTnwd+CGrCyAK1JKb0XEn4HbImI08G3gPOCPEfEmMAPovxVh9IiIpymMvH95W+9JklqT+OdfGSVJyoeIWAQMTykta+lYJKklON1FkiRJyhlH0iVJkqSccSRdkiRJyhmTdEmSJClnTNIlSZKknDFJlyRJknLGJF2SJEnKGZN0SZIkKWf+P0Vff4hh/rIZAAAAAElFTkSuQmCC\n",
       "datasetInfos": [],
       "metadata": {},
       "removedWidgets": [],
       "type": "image"
      }
     },
     "output_type": "display_data"
    }
   ],
   "source": [
    "#1. Setup & Configuration\n",
    "\n",
    "# Install required libraries \n",
    "%pip install requests matplotlib\n",
    "\n",
    "# Import libraries\n",
    "import requests\n",
    "from pyspark.sql import SparkSession, functions as F\n",
    "from pyspark.sql.window import Window\n",
    "from datetime import datetime\n",
    "import matplotlib.pyplot as plt\n",
    "import pandas as pd\n",
    "\n",
    "# Configuration \n",
    "API_KEY = \"ef592ffa-f915-4d43-bdf6-6755b3ffdbef\"  \n",
    "CRYPTO_SYMBOLS = \"BTC,ETH,USDT,XRP,BNB,SOL,USDC,DOGE,ADA,TRX\"\n",
    "SAVE_PATH_RAW = \"/FileStore/crypto/raw_data\"     \n",
    "SAVE_PATH_PROCESSED = \"/FileStore/crypto/processed_data\"\n",
    "\n",
    "#2. Data Ingestion\n",
    "\n",
    "def fetch_crypto_data():\n",
    "    \"\"\"Fetch live data from CoinMarketCap API\"\"\"\n",
    "    url = \"https://pro-api.coinmarketcap.com/v1/cryptocurrency/quotes/latest\"\n",
    "    headers = {\"X-CMC_PRO_API_KEY\": API_KEY}\n",
    "    params = {\"symbol\": CRYPTO_SYMBOLS, \"convert\": \"USD\"}\n",
    "    \n",
    "    try:\n",
    "        response = requests.get(url, headers=headers, params=params, timeout=10)\n",
    "        response.raise_for_status()\n",
    "        return response.json()\n",
    "    except Exception as e:\n",
    "        print(f\"API Error: {e}\")\n",
    "        return None\n",
    "\n",
    "#3. Data Transformation\n",
    "\n",
    "def process_data(raw_data):\n",
    "    \"\"\"Clean and transform raw data\"\"\"\n",
    "    spark = SparkSession.builder.getOrCreate()\n",
    "    \n",
    "    # Create DataFrame from raw data\n",
    "    records = []\n",
    "    for symbol in raw_data[\"data\"]:\n",
    "        coin = raw_data[\"data\"][symbol]\n",
    "        records.append({\n",
    "            \"symbol\": symbol,\n",
    "            \"timestamp\": datetime.now().isoformat(),\n",
    "            \"price_usd\": coin[\"quote\"][\"USD\"][\"price\"],\n",
    "            \"volume_24h\": coin[\"quote\"][\"USD\"][\"volume_24h\"],\n",
    "            \"market_cap\": coin[\"quote\"][\"USD\"][\"market_cap\"]\n",
    "        })\n",
    "    \n",
    "    df = spark.createDataFrame(records)\n",
    "    \n",
    "    # Data Cleaning\n",
    "    df = (df\n",
    "          .withColumn(\"timestamp\", F.to_timestamp(\"timestamp\"))\n",
    "          .withColumn(\"price_usd\", F.round(\"price_usd\", 2))\n",
    "          .withColumn(\"volume_24h\", F.round(\"volume_24h\", 2))\n",
    "          .withColumn(\"market_cap\", F.round(\"market_cap\", 2))\n",
    "         )\n",
    "    \n",
    "    # Calculate price changes\n",
    "    window = Window.partitionBy(\"symbol\").orderBy(\"timestamp\")\n",
    "    df = df.withColumn(\"price_change_24h\", \n",
    "                      F.round(F.col(\"price_usd\") - F.lag(\"price_usd\", 1).over(window), 2))\n",
    "    \n",
    "    return df\n",
    "\n",
    "#4. Data Quality Checks\n",
    "\n",
    "def validate_data(df):\n",
    "    \"\"\"Run data quality assertions\"\"\"\n",
    "    # Check for null values\n",
    "    assert df.filter(F.col(\"price_usd\").isNull()).count() == 0, \"Null values in price!\"\n",
    "    \n",
    "    # Check schema\n",
    "    expected_cols = {\"symbol\", \"timestamp\", \"price_usd\", \"volume_24h\", \"market_cap\", \"price_change_24h\"}\n",
    "    assert set(df.columns) == expected_cols, \"Schema mismatch!\"\n",
    "    \n",
    "    print(\"All data quality checks passed!\")\n",
    "\n",
    "#5. Save to Delta Lake\n",
    "\n",
    "def save_data(df, mode=\"append\"):\n",
    "    \"\"\"Save data to Delta Lake\"\"\"\n",
    "    # Save raw data\n",
    "    df.write.format(\"delta\").mode(mode).save(SAVE_PATH_RAW)\n",
    "    \n",
    "    # Save processed data\n",
    "    df.write.format(\"delta\").mode(\"overwrite\").save(SAVE_PATH_PROCESSED)\n",
    "    print(\"Data saved to Delta Lake!\")\n",
    "\n",
    "#6. Visualization & Analysis\n",
    "\n",
    "def visualize_data():\n",
    "    \"\"\"Generate time-series plot and table\"\"\"\n",
    "    # Read processed data\n",
    "    df = spark.read.format(\"delta\").load(SAVE_PATH_PROCESSED)\n",
    "    \n",
    "    # Display table\n",
    "    print(\"Latest Crypto Prices:\")\n",
    "    display(df.orderBy(F.desc(\"timestamp\")))\n",
    "    \n",
    "    # Matplotlib plot\n",
    "    pdf = df.toPandas()\n",
    "    pdf[\"timestamp\"] = pd.to_datetime(pdf[\"timestamp\"])\n",
    "    \n",
    "    plt.figure(figsize=(12, 6))\n",
    "    for symbol in pdf[\"symbol\"].unique():\n",
    "        symbol_data = pdf[pdf[\"symbol\"] == symbol]\n",
    "        plt.plot(symbol_data[\"timestamp\"], symbol_data[\"price_usd\"], label=symbol)\n",
    "    \n",
    "    plt.title(\"Cryptocurrency Price Trends\")\n",
    "    plt.xlabel(\"Timestamp\")\n",
    "    plt.ylabel(\"Price (USD)\")\n",
    "    plt.legend()\n",
    "    plt.grid(True)\n",
    "    display(plt.show())\n",
    "\n",
    "#7. Orchestration\n",
    "\n",
    "raw_data = fetch_crypto_data()\n",
    "\n",
    "if raw_data:\n",
    "    processed_df = process_data(raw_data)\n",
    "    validate_data(processed_df)\n",
    "    save_data(processed_df)\n",
    "    visualize_data()\n",
    "else:\n",
    "    print(\"Pipeline failed at ingestion step!\")\n"
   ]
  }
 ],
 "metadata": {
  "application/vnd.databricks.v1+notebook": {
   "computePreferences": null,
   "dashboards": [],
   "environmentMetadata": {
    "base_environment": "",
    "environment_version": "1"
   },
   "inputWidgetPreferences": null,
   "language": "python",
   "notebookMetadata": {
    "pythonIndentUnit": 4
   },
   "notebookName": "Real-Time Crypto Market Analytics",
   "widgets": {}
  }
 },
 "nbformat": 4,
 "nbformat_minor": 0
}